{
    "cells": [
        {
            "cell_type": "markdown",
            "id": "ac622319",
            "metadata": {},
            "source": [
                "# Descriptive statistics problems"
            ]
        },
        {
            "cell_type": "markdown",
            "id": "aa8993e4",
            "metadata": {},
            "source": [
                "### Exercise 1"
            ]
        },
        {
            "cell_type": "markdown",
            "id": "5e0ab0d5",
            "metadata": {},
            "source": [
                "We will use Numpy to obtain information to describe statistically.\n",
                "\n",
                "- Generate an array of 100 elements following a normal distribution.\n",
                "- Generate an array of 100 elements following a chi-square distribution with 3 degrees of freedom.\n",
                "- Calculate the main metrics and statistical measures that best describe the two vectors."
            ]
        },
        {
            "cell_type": "code",
            "execution_count": 17,
            "id": "34720ab6",
            "metadata": {},
            "outputs": [
                {
                    "name": "stdout",
                    "output_type": "stream",
                    "text": [
                        "Media distribución normal: 0.9154664386777676, distribución chi-cuadrado: 2.845718471844506.\n",
                        "\n",
                        "Mediana distribución normal: -0.629507348003501, distribución chi-cuadrado: 2.0617584704739125.\n",
                        "\n",
                        "Moda distribución normal: 4.412274868850414, distribución chi-cuadrado: 4.497908512717924.\n",
                        "\n",
                        "El rango de dispersión de la distribución normal) es: 52.90459153630336, y el del la distribución chi-cuadrado es: 13.046949158151872.\n",
                        "\n",
                        "Varianza distribución normal: 87.54723453838419, distribución chi-cuadrado: 5.91274459712278.\n",
                        "\n",
                        "Desviación Estándar distribución normal: 9.356667918569313, distribución chi-cuadrado: 2.4316135789065623.\n",
                        "\n",
                        "Los percentiles 25, 50 y 75 del primer conjunto (distribución normal) son [-4.87029027 -0.62950735  7.5352211 ], y los cuantiles son [-4.87029027 -0.62950735  7.5352211 ].\n",
                        "Percentiles distribución chi-cuadrado: [1.22111933 2.06175847 3.94716665], cuantiles: [0.97195921 2.06175847 2.76054478 4.51627266].\n",
                        "\n",
                        "Asimetría distribución normal: 0.06293016891399168, distribución chi-cuadrado: 1.7150434340597356.\n",
                        "\n",
                        "Curtosis distribución normal: 0.32487940670340043, distribución chi-cuadrado: 3.6612928362066937.\n"
                    ]
                },
                {
                    "data": {
                        "image/png": "[encoded data removed]",
                        "text/plain": [
                            "<Figure size 640x480 with 1 Axes>"
                        ]
                    },
                    "metadata": {},
                    "output_type": "display_data"
                },
                {
                    "name": "stdout",
                    "output_type": "stream",
                    "text": [
                        "La medición de asimetría de la distribución normal es 0.06293016891399168, cercana a cero, lo que sugiere que los datos son bastante simétricos.\n",
                        "La medición de asimetría de la distribución chi-cuadrado es 1.7150434340597356, positiva, lo que indica que la mayoría de los datos están a la izquierda y hay unos pocos valores muy altos a la derecha.\n",
                        "\n",
                        "La curtosis de la distribución normal es 0.32487940670340043, resultado que podríamos predecir ya que una distribución mesocústica, es decir, cercana a cero (lo ideal), sugiere una forma similar a la de la distribución normal.\n",
                        "La curtosis de la distribución chi-cuadrado es 3.6612928362066937, distribución leptocúrtica (kurtosis positiva), lo que significa que tiene colas más pesadas y un pico más agudo, hay más datos en los extremos y menos en el centro de la distribución.\n"
                    ]
                }
            ],
            "source": [
                "import numpy as np\n",
                "import statistics as stats\n",
                "from scipy.stats import skew, kurtosis\n",
                "import matplotlib.pyplot as plt\n",
                "\n",
                "\n",
                "np.random.seed(5)\n",
                "\n",
                "normal_d = np.random.normal(0, 10, 100)\n",
                "chi_d = np.random.chisquare(3, 100)\n",
                "\n",
                "# - Medidas de Tendencia Central -\n",
                "# Media - Valor central de conjunto de datos\n",
                "n_media = stats.mean(normal_d)\n",
                "c_media = stats.mean(chi_d)\n",
                "print(f'Media distribución normal: {n_media}, distribución chi-cuadrado: {c_media}.')\n",
                "print()\n",
                "\n",
                "# Mediana - Valor media de los datos ordenados\n",
                "n_mediana = stats.median(normal_d)\n",
                "c_mediana = stats.median(chi_d)\n",
                "print(f'Mediana distribución normal: {n_mediana}, distribución chi-cuadrado: {c_mediana}.')\n",
                "print()\n",
                "\n",
                "# Moda - Valor más frecuente\n",
                "n_moda = stats.mode(normal_d)\n",
                "c_moda = stats.mode(chi_d)\n",
                "print(f'Moda distribución normal: {n_moda}, distribución chi-cuadrado: {c_moda}.')\n",
                "print()\n",
                "\n",
                "# - Medidas de Dispersión -\n",
                "# Rango - Diferencia entre en valor máximo y el mínimo\n",
                "n_rango = max(normal_d) - min(normal_d)\n",
                "c_rango = max(chi_d) - min(chi_d)\n",
                "print(f'El rango de dispersión de la distribución normal) es: {n_rango}, y el del la distribución chi-cuadrado es: {c_rango}.')\n",
                "print()\n",
                "\n",
                "# Varianza y Desviación Estándar - Indican como de lejos están, en promedio, respecto a la media\n",
                "n_varianza = stats.variance(normal_d)\n",
                "c_varianza = stats.variance(chi_d)\n",
                "print(f'Varianza distribución normal: {n_varianza}, distribución chi-cuadrado: {c_varianza}.')\n",
                "print()\n",
                "\n",
                "n_dstandard = stats.stdev(normal_d)\n",
                "c_dstandard = stats.stdev(chi_d)\n",
                "print(f'Desviación Estándar distribución normal: {n_dstandard}, distribución chi-cuadrado: {c_dstandard}.')\n",
                "print()\n",
                "\n",
                "# - Medidas de Posición -\n",
                "n_percentil = np.percentile(normal_d, [25, 50, 75])\n",
                "n_cuantil = np.quantile(normal_d, [0.25, 0.5, 0.75])\n",
                "print(f'Los percentiles 25, 50 y 75 del primer conjunto (distribución normal) son {n_percentil}, y los cuantiles son {n_cuantil}.')\n",
                "\n",
                "c_percentil = np.percentile(chi_d, [25, 50, 75])\n",
                "c_cuantil = np.quantile(chi_d, [0.2, 0.5, 0.6, 0.8])\n",
                "print(f'Percentiles distribución chi-cuadrado: {c_percentil}, cuantiles: {c_cuantil}.')\n",
                "print()\n",
                "\n",
                "# - Medidas de Forma -\n",
                "# Asimetría - Mide la falta de simetría en la distribución de datos\n",
                "n_skewness = skew(normal_d)\n",
                "c_skewness = skew(chi_d)\n",
                "print(f'Asimetría distribución normal: {n_skewness}, distribución chi-cuadrado: {c_skewness}.')\n",
                "print()\n",
                "\n",
                "# Curtosis - Mide la contentrración de datos en torno a la media\n",
                "n_kurt = kurtosis(normal_d)\n",
                "c_kurt = kurtosis(chi_d)\n",
                "print(f'Curtosis distribución normal: {n_kurt}, distribución chi-cuadrado: {c_kurt}.')\n",
                "\n",
                "bins = np.linspace(-10, 10, 20)\n",
                "\n",
                "plt.hist([normal_d, chi_d], bins, label=['Distribución Normal', 'Distribución Chi-Cuadrado'] )\n",
                "plt.title(\"Visualización Distribuciones\")\n",
                "plt.legend(loc='upper left')\n",
                "plt.show()\n",
                "\n",
                "print(f'La medición de asimetría de la distribución normal es {n_skewness}, cercana a cero, lo que sugiere que los datos son bastante simétricos.')\n",
                "print(f'La medición de asimetría de la distribución chi-cuadrado es {c_skewness}, positiva, lo que indica que la mayoría de los datos están a la izquierda y hay unos pocos valores muy altos a la derecha.')\n",
                "print()\n",
                "print(f'La curtosis de la distribución normal es {n_kurt}, resultado que podríamos predecir ya que una distribución mesocústica, es decir, cercana a cero (lo ideal), sugiere una forma similar a la de la distribución normal.')\n",
                "print(f'La curtosis de la distribución chi-cuadrado es {c_kurt}, distribución leptocúrtica (kurtosis positiva), lo que significa que tiene colas más pesadas y un pico más agudo, hay más datos en los extremos y menos en el centro de la distribución.')"
            ]
        },
        {
            "cell_type": "markdown",
            "id": "46c70c3d",
            "metadata": {},
            "source": [
                "### Exercise 2\n",
                "\n",
                "Write a Python program to calculate the standard deviation of the following data:\n",
                "\n",
                "```py\n",
                "data = [4, 2, 5, 8, 6]\n",
                "```"
            ]
        },
        {
            "cell_type": "code",
            "execution_count": 16,
            "id": "d590308e",
            "metadata": {},
            "outputs": [
                {
                    "name": "stdout",
                    "output_type": "stream",
                    "text": [
                        "2.23606797749979\n"
                    ]
                }
            ],
            "source": [
                "import statistics as stats\n",
                "import math\n",
                "\n",
                "data = [4, 2, 5, 8, 6]\n",
                "\n",
                "def standard_desviation(x):\n",
                "    return stats.stdev(x)\n",
                "\n",
                "\n",
                "\n",
                "def desviacion_estandar(datos):\n",
                "    media = sum(datos) / len(datos)\n",
                "    cuadrado = []\n",
                "    \n",
                "    for i in datos:\n",
                "        c = (i - media)**2\n",
                "        cuadrado.append(c)\n",
                "    \n",
                "    a =  sum(cuadrado) / (len(datos) -1)\n",
                "    desviacion = math.sqrt(a)\n",
                "    return desviacion\n",
                "    \n",
                " \n",
                "\n",
                "def d_estandar(lista):\n",
                "    suma = 0\n",
                "    r = []\n",
                "\n",
                "    for num in lista:\n",
                "        suma += num\n",
                "    \n",
                "    media = suma / len(lista)\n",
                "    \n",
                "    for i in lista:\n",
                "        s = (i - media)**2\n",
                "        r.append(s)\n",
                "    \n",
                "    sumatorio = 0\n",
                "\n",
                "    for n in r:\n",
                "        sumatorio += n\n",
                "\n",
                "    desvia = math.sqrt(sumatorio / (len(lista) - 1))\n",
                "    return desvia\n",
                "    \n",
                "print(d_estandar(data))\n"
            ]
        }
    ],
    "metadata": {
        "interpreter": {
            "hash": "9248718ffe6ce6938b217e69dbcc175ea21f4c6b28a317e96c05334edae734bb"
        },
        "kernelspec": {
            "display_name": "Python 3.9.12 ('ML-BOOTCAMP')",
            "language": "python",
            "name": "python3"
        },
        "language_info": {
            "codemirror_mode": {
                "name": "ipython",
                "version": 3
            },
            "file_extension": ".py",
            "mimetype": "text/x-python",
            "name": "python",
            "nbconvert_exporter": "python",
            "pygments_lexer": "ipython3",
            "version": "3.11.4"
        }
    },
    "nbformat": 4,
    "nbformat_minor": 5
}
